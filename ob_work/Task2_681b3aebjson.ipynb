{
 "cells": [
  {
   "cell_type": "markdown",
   "metadata": {},
   "source": [
    "#### Task 2: 7ddcd7ec"
   ]
  },
  {
   "cell_type": "code",
   "execution_count": 20,
   "metadata": {},
   "outputs": [],
   "source": [
    "import json\n",
    "import numpy as np\n",
    "with open(\"C://Users/oisin/Documents/College/PTAI/Assignment 3/ARC/data/training/7ddcd7ec.json\") as f:\n",
    "    data = json.load(f)"
   ]
  },
  {
   "cell_type": "code",
   "execution_count": 21,
   "metadata": {},
   "outputs": [
    {
     "data": {
      "text/plain": [
       "{'train': [{'input': [[0, 0, 0, 0, 0, 0, 0, 0, 0, 0],\n",
       "    [0, 0, 0, 0, 0, 0, 0, 0, 0, 0],\n",
       "    [0, 0, 3, 3, 0, 0, 0, 0, 0, 0],\n",
       "    [0, 0, 3, 3, 0, 0, 0, 0, 0, 0],\n",
       "    [0, 0, 0, 0, 3, 0, 0, 0, 0, 0],\n",
       "    [0, 0, 0, 0, 0, 0, 0, 0, 0, 0],\n",
       "    [0, 0, 0, 0, 0, 0, 0, 0, 0, 0],\n",
       "    [0, 0, 0, 0, 0, 0, 0, 0, 0, 0],\n",
       "    [0, 0, 0, 0, 0, 0, 0, 0, 0, 0],\n",
       "    [0, 0, 0, 0, 0, 0, 0, 0, 0, 0]],\n",
       "   'output': [[0, 0, 0, 0, 0, 0, 0, 0, 0, 0],\n",
       "    [0, 0, 0, 0, 0, 0, 0, 0, 0, 0],\n",
       "    [0, 0, 3, 3, 0, 0, 0, 0, 0, 0],\n",
       "    [0, 0, 3, 3, 0, 0, 0, 0, 0, 0],\n",
       "    [0, 0, 0, 0, 3, 0, 0, 0, 0, 0],\n",
       "    [0, 0, 0, 0, 0, 3, 0, 0, 0, 0],\n",
       "    [0, 0, 0, 0, 0, 0, 3, 0, 0, 0],\n",
       "    [0, 0, 0, 0, 0, 0, 0, 3, 0, 0],\n",
       "    [0, 0, 0, 0, 0, 0, 0, 0, 3, 0],\n",
       "    [0, 0, 0, 0, 0, 0, 0, 0, 0, 3]]},\n",
       "  {'input': [[0, 0, 0, 0, 0, 0, 0, 0, 0, 0],\n",
       "    [0, 0, 0, 0, 0, 0, 4, 0, 0, 0],\n",
       "    [0, 0, 0, 0, 4, 4, 0, 0, 0, 0],\n",
       "    [0, 0, 0, 0, 4, 4, 0, 0, 0, 0],\n",
       "    [0, 0, 0, 0, 0, 0, 4, 0, 0, 0],\n",
       "    [0, 0, 0, 0, 0, 0, 0, 0, 0, 0],\n",
       "    [0, 0, 0, 0, 0, 0, 0, 0, 0, 0],\n",
       "    [0, 0, 0, 0, 0, 0, 0, 0, 0, 0],\n",
       "    [0, 0, 0, 0, 0, 0, 0, 0, 0, 0],\n",
       "    [0, 0, 0, 0, 0, 0, 0, 0, 0, 0]],\n",
       "   'output': [[0, 0, 0, 0, 0, 0, 0, 4, 0, 0],\n",
       "    [0, 0, 0, 0, 0, 0, 4, 0, 0, 0],\n",
       "    [0, 0, 0, 0, 4, 4, 0, 0, 0, 0],\n",
       "    [0, 0, 0, 0, 4, 4, 0, 0, 0, 0],\n",
       "    [0, 0, 0, 0, 0, 0, 4, 0, 0, 0],\n",
       "    [0, 0, 0, 0, 0, 0, 0, 4, 0, 0],\n",
       "    [0, 0, 0, 0, 0, 0, 0, 0, 4, 0],\n",
       "    [0, 0, 0, 0, 0, 0, 0, 0, 0, 4],\n",
       "    [0, 0, 0, 0, 0, 0, 0, 0, 0, 0],\n",
       "    [0, 0, 0, 0, 0, 0, 0, 0, 0, 0]]},\n",
       "  {'input': [[0, 0, 0, 0, 0, 0, 0, 0, 0, 0],\n",
       "    [0, 0, 0, 0, 0, 0, 0, 0, 0, 0],\n",
       "    [0, 0, 0, 0, 0, 0, 7, 0, 0, 0],\n",
       "    [0, 0, 0, 0, 7, 7, 0, 0, 0, 0],\n",
       "    [0, 0, 0, 0, 7, 7, 0, 0, 0, 0],\n",
       "    [0, 0, 0, 7, 0, 0, 0, 0, 0, 0],\n",
       "    [0, 0, 0, 0, 0, 0, 0, 0, 0, 0],\n",
       "    [0, 0, 0, 0, 0, 0, 0, 0, 0, 0],\n",
       "    [0, 0, 0, 0, 0, 0, 0, 0, 0, 0],\n",
       "    [0, 0, 0, 0, 0, 0, 0, 0, 0, 0]],\n",
       "   'output': [[0, 0, 0, 0, 0, 0, 0, 0, 7, 0],\n",
       "    [0, 0, 0, 0, 0, 0, 0, 7, 0, 0],\n",
       "    [0, 0, 0, 0, 0, 0, 7, 0, 0, 0],\n",
       "    [0, 0, 0, 0, 7, 7, 0, 0, 0, 0],\n",
       "    [0, 0, 0, 0, 7, 7, 0, 0, 0, 0],\n",
       "    [0, 0, 0, 7, 0, 0, 0, 0, 0, 0],\n",
       "    [0, 0, 7, 0, 0, 0, 0, 0, 0, 0],\n",
       "    [0, 7, 0, 0, 0, 0, 0, 0, 0, 0],\n",
       "    [7, 0, 0, 0, 0, 0, 0, 0, 0, 0],\n",
       "    [0, 0, 0, 0, 0, 0, 0, 0, 0, 0]]}],\n",
       " 'test': [{'input': [[0, 0, 0, 0, 0, 0, 0, 0, 0, 0],\n",
       "    [0, 0, 0, 0, 0, 0, 0, 0, 0, 0],\n",
       "    [0, 0, 0, 0, 0, 0, 0, 0, 0, 0],\n",
       "    [0, 0, 0, 0, 0, 8, 0, 0, 0, 0],\n",
       "    [0, 0, 0, 8, 8, 0, 0, 0, 0, 0],\n",
       "    [0, 0, 0, 8, 8, 0, 0, 0, 0, 0],\n",
       "    [0, 0, 8, 0, 0, 8, 0, 0, 0, 0],\n",
       "    [0, 0, 0, 0, 0, 0, 0, 0, 0, 0],\n",
       "    [0, 0, 0, 0, 0, 0, 0, 0, 0, 0],\n",
       "    [0, 0, 0, 0, 0, 0, 0, 0, 0, 0]],\n",
       "   'output': [[0, 0, 0, 0, 0, 0, 0, 0, 8, 0],\n",
       "    [0, 0, 0, 0, 0, 0, 0, 8, 0, 0],\n",
       "    [0, 0, 0, 0, 0, 0, 8, 0, 0, 0],\n",
       "    [0, 0, 0, 0, 0, 8, 0, 0, 0, 0],\n",
       "    [0, 0, 0, 8, 8, 0, 0, 0, 0, 0],\n",
       "    [0, 0, 0, 8, 8, 0, 0, 0, 0, 0],\n",
       "    [0, 0, 8, 0, 0, 8, 0, 0, 0, 0],\n",
       "    [0, 8, 0, 0, 0, 0, 8, 0, 0, 0],\n",
       "    [8, 0, 0, 0, 0, 0, 0, 8, 0, 0],\n",
       "    [0, 0, 0, 0, 0, 0, 0, 0, 8, 0]]}]}"
      ]
     },
     "execution_count": 21,
     "metadata": {},
     "output_type": "execute_result"
    }
   ],
   "source": [
    "data"
   ]
  },
  {
   "cell_type": "code",
   "execution_count": 22,
   "metadata": {},
   "outputs": [],
   "source": [
    "train = data['train']"
   ]
  },
  {
   "cell_type": "code",
   "execution_count": 23,
   "metadata": {},
   "outputs": [],
   "source": [
    "a = [i['input'] for i in train][0]"
   ]
  },
  {
   "cell_type": "code",
   "execution_count": 24,
   "metadata": {},
   "outputs": [
    {
     "data": {
      "text/plain": [
       "[[0, 0, 0, 0, 0, 0, 0, 0, 0, 0],\n",
       " [0, 0, 0, 0, 0, 0, 0, 0, 0, 0],\n",
       " [0, 0, 3, 3, 0, 0, 0, 0, 0, 0],\n",
       " [0, 0, 3, 3, 0, 0, 0, 0, 0, 0],\n",
       " [0, 0, 0, 0, 3, 0, 0, 0, 0, 0],\n",
       " [0, 0, 0, 0, 0, 0, 0, 0, 0, 0],\n",
       " [0, 0, 0, 0, 0, 0, 0, 0, 0, 0],\n",
       " [0, 0, 0, 0, 0, 0, 0, 0, 0, 0],\n",
       " [0, 0, 0, 0, 0, 0, 0, 0, 0, 0],\n",
       " [0, 0, 0, 0, 0, 0, 0, 0, 0, 0]]"
      ]
     },
     "execution_count": 24,
     "metadata": {},
     "output_type": "execute_result"
    }
   ],
   "source": [
    "a"
   ]
  },
  {
   "cell_type": "code",
   "execution_count": 25,
   "metadata": {},
   "outputs": [],
   "source": [
    "test = data['test']"
   ]
  },
  {
   "cell_type": "code",
   "execution_count": 26,
   "metadata": {},
   "outputs": [],
   "source": [
    "b = [i['input'] for i in test][0]"
   ]
  },
  {
   "cell_type": "code",
   "execution_count": 27,
   "metadata": {},
   "outputs": [
    {
     "data": {
      "text/plain": [
       "[[0, 0, 0, 0, 0, 0, 0, 0, 0, 0],\n",
       " [0, 0, 0, 0, 0, 0, 0, 0, 0, 0],\n",
       " [0, 0, 0, 0, 0, 0, 0, 0, 0, 0],\n",
       " [0, 0, 0, 0, 0, 8, 0, 0, 0, 0],\n",
       " [0, 0, 0, 8, 8, 0, 0, 0, 0, 0],\n",
       " [0, 0, 0, 8, 8, 0, 0, 0, 0, 0],\n",
       " [0, 0, 8, 0, 0, 8, 0, 0, 0, 0],\n",
       " [0, 0, 0, 0, 0, 0, 0, 0, 0, 0],\n",
       " [0, 0, 0, 0, 0, 0, 0, 0, 0, 0],\n",
       " [0, 0, 0, 0, 0, 0, 0, 0, 0, 0]]"
      ]
     },
     "execution_count": 27,
     "metadata": {},
     "output_type": "execute_result"
    }
   ],
   "source": [
    "b"
   ]
  },
  {
   "cell_type": "markdown",
   "metadata": {},
   "source": [
    "So what I have here is a case where we need to cut a hole in any square within our matrix"
   ]
  },
  {
   "cell_type": "code",
   "execution_count": 28,
   "metadata": {},
   "outputs": [],
   "source": [
    "b = np.array(b)"
   ]
  },
  {
   "cell_type": "code",
   "execution_count": 29,
   "metadata": {},
   "outputs": [
    {
     "data": {
      "text/plain": [
       "array([0, 0, 0, 8, 8, 0, 0, 0, 0, 0])"
      ]
     },
     "execution_count": 29,
     "metadata": {},
     "output_type": "execute_result"
    }
   ],
   "source": [
    "b[5,:]"
   ]
  },
  {
   "cell_type": "code",
   "execution_count": 30,
   "metadata": {},
   "outputs": [
    {
     "data": {
      "text/plain": [
       "array([0, 0, 0, 8, 0, 0, 8, 0, 0, 0])"
      ]
     },
     "execution_count": 30,
     "metadata": {},
     "output_type": "execute_result"
    }
   ],
   "source": [
    "b[:, 5]"
   ]
  },
  {
   "cell_type": "code",
   "execution_count": 31,
   "metadata": {},
   "outputs": [
    {
     "data": {
      "text/plain": [
       "array([[0, 0, 0, 0, 0, 0, 0, 0, 0, 0],\n",
       "       [0, 0, 0, 0, 0, 0, 0, 0, 0, 0],\n",
       "       [0, 0, 0, 0, 0, 0, 0, 0, 0, 0],\n",
       "       [0, 0, 0, 0, 0, 8, 0, 0, 0, 0],\n",
       "       [0, 0, 0, 8, 8, 0, 0, 0, 0, 0],\n",
       "       [0, 0, 0, 8, 8, 0, 0, 0, 0, 0],\n",
       "       [0, 0, 8, 0, 0, 8, 0, 0, 0, 0],\n",
       "       [0, 0, 0, 0, 0, 0, 0, 0, 0, 0],\n",
       "       [0, 0, 0, 0, 0, 0, 0, 0, 0, 0],\n",
       "       [0, 0, 0, 0, 0, 0, 0, 0, 0, 0]])"
      ]
     },
     "execution_count": 31,
     "metadata": {},
     "output_type": "execute_result"
    }
   ],
   "source": [
    "b"
   ]
  },
  {
   "cell_type": "code",
   "execution_count": null,
   "metadata": {},
   "outputs": [],
   "source": []
  }
 ],
 "metadata": {
  "kernelspec": {
   "display_name": "Python 3",
   "language": "python",
   "name": "python3"
  },
  "language_info": {
   "codemirror_mode": {
    "name": "ipython",
    "version": 3
   },
   "file_extension": ".py",
   "mimetype": "text/x-python",
   "name": "python",
   "nbconvert_exporter": "python",
   "pygments_lexer": "ipython3",
   "version": "3.8.5"
  }
 },
 "nbformat": 4,
 "nbformat_minor": 4
}
