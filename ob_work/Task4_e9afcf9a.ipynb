{
 "cells": [
  {
   "cell_type": "code",
   "execution_count": 3,
   "metadata": {},
   "outputs": [],
   "source": [
    "import json\n",
    "import numpy as np\n",
    "from IPython.display import Image"
   ]
  },
  {
   "cell_type": "code",
   "execution_count": 5,
   "metadata": {},
   "outputs": [
    {
     "data": {
      "image/png": "[encoded data removed]",
      "text/plain": [
       "<IPython.core.display.Image object>"
      ]
     },
     "execution_count": 5,
     "metadata": {},
     "output_type": "execute_result"
    }
   ],
   "source": [
    "Image(\"C://Users/oisin/Documents/College/PTAI/Assignment 3/ARC/ob_work/test_train_plots/e9afcf9a.PNG\")"
   ]
  },
  {
   "cell_type": "code",
   "execution_count": 2,
   "metadata": {},
   "outputs": [
    {
     "data": {
      "text/plain": [
       "{'train': [{'input': [[3, 3, 3, 3, 3, 3], [9, 9, 9, 9, 9, 9]],\n",
       "   'output': [[3, 9, 3, 9, 3, 9], [9, 3, 9, 3, 9, 3]]},\n",
       "  {'input': [[4, 4, 4, 4, 4, 4], [8, 8, 8, 8, 8, 8]],\n",
       "   'output': [[4, 8, 4, 8, 4, 8], [8, 4, 8, 4, 8, 4]]}],\n",
       " 'test': [{'input': [[6, 6, 6, 6, 6, 6], [2, 2, 2, 2, 2, 2]],\n",
       "   'output': [[6, 2, 6, 2, 6, 2], [2, 6, 2, 6, 2, 6]]}]}"
      ]
     },
     "execution_count": 2,
     "metadata": {},
     "output_type": "execute_result"
    }
   ],
   "source": [
    "with open(\"C://Users/oisin/Documents/College/PTAI/Assignment 3/ARC/data/training/e9afcf9a.json\") as f:\n",
    "    data = json.load(f)\n",
    "\n",
    "data"
   ]
  },
  {
   "cell_type": "markdown",
   "metadata": {},
   "source": [
    "Task here is to basically append every second value in the numpy array into the preceding row"
   ]
  },
  {
   "cell_type": "code",
   "execution_count": 6,
   "metadata": {},
   "outputs": [
    {
     "data": {
      "text/plain": [
       "array([[[3, 3, 3, 3, 3, 3],\n",
       "        [9, 9, 9, 9, 9, 9]],\n",
       "\n",
       "       [[4, 4, 4, 4, 4, 4],\n",
       "        [8, 8, 8, 8, 8, 8]]])"
      ]
     },
     "execution_count": 6,
     "metadata": {},
     "output_type": "execute_result"
    }
   ],
   "source": [
    "train = data['train']\n",
    "train = [i['input'] for i in train]\n",
    "train = np.array(train)\n",
    "# Get rid of the (1, 10, 10) shape and make it (10, 10) for each of the 3 inputs\n",
    "train = np.squeeze(train)\n",
    "train"
   ]
  },
  {
   "cell_type": "code",
   "execution_count": 98,
   "metadata": {},
   "outputs": [
    {
     "data": {
      "text/plain": [
       "array([[6, 6, 6, 6, 6, 6],\n",
       "       [2, 2, 2, 2, 2, 2]])"
      ]
     },
     "execution_count": 98,
     "metadata": {},
     "output_type": "execute_result"
    }
   ],
   "source": [
    "test = data['test']\n",
    "test = [i['input'] for i in test]\n",
    "test = np.array(test)\n",
    "test = np.squeeze(test)\n",
    "test"
   ]
  },
  {
   "cell_type": "markdown",
   "metadata": {},
   "source": [
    "So we have to manipulate the numpy array to say that for every second element in x[1], we want to replace the same indexed element in the row above it"
   ]
  },
  {
   "cell_type": "code",
   "execution_count": 96,
   "metadata": {},
   "outputs": [],
   "source": [
    "test[0::2] = [x+1 for x in test[0::2]]"
   ]
  },
  {
   "cell_type": "code",
   "execution_count": 97,
   "metadata": {},
   "outputs": [
    {
     "data": {
      "text/plain": [
       "array([[16, 16, 16, 16, 16, 16],\n",
       "       [15, 15, 15, 15, 15, 15]])"
      ]
     },
     "execution_count": 97,
     "metadata": {},
     "output_type": "execute_result"
    }
   ],
   "source": [
    "test"
   ]
  },
  {
   "cell_type": "code",
   "execution_count": null,
   "metadata": {},
   "outputs": [],
   "source": []
  }
 ],
 "metadata": {
  "kernelspec": {
   "display_name": "Python 3",
   "language": "python",
   "name": "python3"
  },
  "language_info": {
   "codemirror_mode": {
    "name": "ipython",
    "version": 3
   },
   "file_extension": ".py",
   "mimetype": "text/x-python",
   "name": "python",
   "nbconvert_exporter": "python",
   "pygments_lexer": "ipython3",
   "version": "3.8.5"
  }
 },
 "nbformat": 4,
 "nbformat_minor": 4
}
