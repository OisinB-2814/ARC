{
 "cells": [
  {
   "cell_type": "markdown",
   "metadata": {},
   "source": [
    "#### Task 1: "
   ]
  },
  {
   "cell_type": "code",
   "execution_count": 43,
   "metadata": {},
   "outputs": [],
   "source": [
    "# Import numpy to work on matrices\n",
    "import numpy as np"
   ]
  },
  {
   "cell_type": "code",
   "execution_count": 2,
   "metadata": {},
   "outputs": [
    {
     "name": "stdout",
     "output_type": "stream",
     "text": [
      "{'train': [{'input': [[0, 0], [0, 0], [0, 0], [0, 0], [0, 0], [0, 0], [0, 0], [0, 0], [0, 0], [1, 0]], 'output': [[0, 1], [1, 0], [0, 1], [1, 0], [0, 1], [1, 0], [0, 1], [1, 0], [0, 1], [1, 0]]}, {'input': [[0, 0, 0], [0, 0, 0], [0, 0, 0], [0, 0, 0], [0, 0, 0], [0, 0, 0], [0, 0, 0], [0, 0, 0], [0, 0, 0], [1, 0, 0]], 'output': [[0, 1, 0], [1, 0, 0], [0, 1, 0], [0, 0, 1], [0, 1, 0], [1, 0, 0], [0, 1, 0], [0, 0, 1], [0, 1, 0], [1, 0, 0]]}, {'input': [[0, 0, 0, 0], [0, 0, 0, 0], [0, 0, 0, 0], [0, 0, 0, 0], [0, 0, 0, 0], [0, 0, 0, 0], [0, 0, 0, 0], [0, 0, 0, 0], [0, 0, 0, 0], [1, 0, 0, 0]], 'output': [[0, 0, 0, 1], [0, 0, 1, 0], [0, 1, 0, 0], [1, 0, 0, 0], [0, 1, 0, 0], [0, 0, 1, 0], [0, 0, 0, 1], [0, 0, 1, 0], [0, 1, 0, 0], [1, 0, 0, 0]]}], 'test': [{'input': [[0, 0, 0, 0, 0], [0, 0, 0, 0, 0], [0, 0, 0, 0, 0], [0, 0, 0, 0, 0], [0, 0, 0, 0, 0], [0, 0, 0, 0, 0], [0, 0, 0, 0, 0], [0, 0, 0, 0, 0], [0, 0, 0, 0, 0], [1, 0, 0, 0, 0]], 'output': [[0, 1, 0, 0, 0], [1, 0, 0, 0, 0], [0, 1, 0, 0, 0], [0, 0, 1, 0, 0], [0, 0, 0, 1, 0], [0, 0, 0, 0, 1], [0, 0, 0, 1, 0], [0, 0, 1, 0, 0], [0, 1, 0, 0, 0], [1, 0, 0, 0, 0]]}]}\n"
     ]
    }
   ],
   "source": [
    "# Import in the chosen json file to work on\n",
    "import json\n",
    "with open(\"C://Users/oisin/Documents/College/PTAI/Assignment 3/ARC/data/training/a3df8b1e.json\") as f:\n",
    "    data = json.load(f)\n",
    "\n",
    "print(data)"
   ]
  },
  {
   "cell_type": "markdown",
   "metadata": {},
   "source": [
    "So the JSON file I have is a dictionary with the keys as training and output and the values are dictionaries containing lists of lists"
   ]
  },
  {
   "cell_type": "code",
   "execution_count": 36,
   "metadata": {},
   "outputs": [
    {
     "data": {
      "text/plain": [
       "[{'input': [[0, 0],\n",
       "   [0, 0],\n",
       "   [0, 0],\n",
       "   [0, 0],\n",
       "   [0, 0],\n",
       "   [0, 0],\n",
       "   [0, 0],\n",
       "   [0, 0],\n",
       "   [0, 0],\n",
       "   [1, 0]],\n",
       "  'output': [[0, 1],\n",
       "   [1, 0],\n",
       "   [0, 1],\n",
       "   [1, 0],\n",
       "   [0, 1],\n",
       "   [1, 0],\n",
       "   [0, 1],\n",
       "   [1, 0],\n",
       "   [0, 1],\n",
       "   [1, 0]]},\n",
       " {'input': [[0, 0, 0],\n",
       "   [0, 0, 0],\n",
       "   [0, 0, 0],\n",
       "   [0, 0, 0],\n",
       "   [0, 0, 0],\n",
       "   [0, 0, 0],\n",
       "   [0, 0, 0],\n",
       "   [0, 0, 0],\n",
       "   [0, 0, 0],\n",
       "   [1, 0, 0]],\n",
       "  'output': [[0, 1, 0],\n",
       "   [1, 0, 0],\n",
       "   [0, 1, 0],\n",
       "   [0, 0, 1],\n",
       "   [0, 1, 0],\n",
       "   [1, 0, 0],\n",
       "   [0, 1, 0],\n",
       "   [0, 0, 1],\n",
       "   [0, 1, 0],\n",
       "   [1, 0, 0]]},\n",
       " {'input': [[0, 0, 0, 0],\n",
       "   [0, 0, 0, 0],\n",
       "   [0, 0, 0, 0],\n",
       "   [0, 0, 0, 0],\n",
       "   [0, 0, 0, 0],\n",
       "   [0, 0, 0, 0],\n",
       "   [0, 0, 0, 0],\n",
       "   [0, 0, 0, 0],\n",
       "   [0, 0, 0, 0],\n",
       "   [1, 0, 0, 0]],\n",
       "  'output': [[0, 0, 0, 1],\n",
       "   [0, 0, 1, 0],\n",
       "   [0, 1, 0, 0],\n",
       "   [1, 0, 0, 0],\n",
       "   [0, 1, 0, 0],\n",
       "   [0, 0, 1, 0],\n",
       "   [0, 0, 0, 1],\n",
       "   [0, 0, 1, 0],\n",
       "   [0, 1, 0, 0],\n",
       "   [1, 0, 0, 0]]}]"
      ]
     },
     "execution_count": 36,
     "metadata": {},
     "output_type": "execute_result"
    }
   ],
   "source": [
    "# Check out the training data\n",
    "(data['train'])"
   ]
  },
  {
   "cell_type": "code",
   "execution_count": 54,
   "metadata": {},
   "outputs": [
    {
     "data": {
      "text/plain": [
       "[[[0, 0],\n",
       "  [0, 0],\n",
       "  [0, 0],\n",
       "  [0, 0],\n",
       "  [0, 0],\n",
       "  [0, 0],\n",
       "  [0, 0],\n",
       "  [0, 0],\n",
       "  [0, 0],\n",
       "  [1, 0]],\n",
       " [[0, 0],\n",
       "  [0, 0],\n",
       "  [0, 0],\n",
       "  [0, 0],\n",
       "  [0, 0],\n",
       "  [0, 0],\n",
       "  [0, 0],\n",
       "  [0, 0],\n",
       "  [0, 0],\n",
       "  [1, 0]],\n",
       " [[0, 0],\n",
       "  [0, 0],\n",
       "  [0, 0],\n",
       "  [0, 0],\n",
       "  [0, 0],\n",
       "  [0, 0],\n",
       "  [0, 0],\n",
       "  [0, 0],\n",
       "  [0, 0],\n",
       "  [1, 0]],\n",
       " [[0, 1],\n",
       "  [1, 0],\n",
       "  [0, 1],\n",
       "  [1, 0],\n",
       "  [0, 1],\n",
       "  [1, 0],\n",
       "  [0, 1],\n",
       "  [1, 0],\n",
       "  [0, 1],\n",
       "  [1, 0]],\n",
       " [[0, 1],\n",
       "  [1, 0],\n",
       "  [0, 1],\n",
       "  [1, 0],\n",
       "  [0, 1],\n",
       "  [1, 0],\n",
       "  [0, 1],\n",
       "  [1, 0],\n",
       "  [0, 1],\n",
       "  [1, 0]],\n",
       " [[0, 1],\n",
       "  [1, 0],\n",
       "  [0, 1],\n",
       "  [1, 0],\n",
       "  [0, 1],\n",
       "  [1, 0],\n",
       "  [0, 1],\n",
       "  [1, 0],\n",
       "  [0, 1],\n",
       "  [1, 0]]]"
      ]
     },
     "execution_count": 54,
     "metadata": {},
     "output_type": "execute_result"
    }
   ],
   "source": [
    "# Take out the matrices from then list of dicts\n",
    "a = [i for i in j 2or j in data['train']]\n",
    "a"
   ]
  },
  {
   "cell_type": "code",
   "execution_count": 55,
   "metadata": {},
   "outputs": [],
   "source": [
    "a = [a[0],a[5]]"
   ]
  },
  {
   "cell_type": "code",
   "execution_count": 57,
   "metadata": {},
   "outputs": [
    {
     "data": {
      "text/plain": [
       "[[0, 0],\n",
       " [0, 0],\n",
       " [0, 0],\n",
       " [0, 0],\n",
       " [0, 0],\n",
       " [0, 0],\n",
       " [0, 0],\n",
       " [0, 0],\n",
       " [0, 0],\n",
       " [1, 0]]"
      ]
     },
     "execution_count": 57,
     "metadata": {},
     "output_type": "execute_result"
    }
   ],
   "source": [
    "a[0]"
   ]
  },
  {
   "cell_type": "code",
   "execution_count": 58,
   "metadata": {},
   "outputs": [
    {
     "data": {
      "text/plain": [
       "[[0, 1],\n",
       " [1, 0],\n",
       " [0, 1],\n",
       " [1, 0],\n",
       " [0, 1],\n",
       " [1, 0],\n",
       " [0, 1],\n",
       " [1, 0],\n",
       " [0, 1],\n",
       " [1, 0]]"
      ]
     },
     "execution_count": 58,
     "metadata": {},
     "output_type": "execute_result"
    }
   ],
   "source": [
    "a[1]"
   ]
  },
  {
   "cell_type": "markdown",
   "metadata": {},
   "source": [
    "How do I get from the first matrix to the second?"
   ]
  },
  {
   "cell_type": "code",
   "execution_count": 70,
   "metadata": {},
   "outputs": [
    {
     "name": "stdout",
     "output_type": "stream",
     "text": [
      "1\n",
      "0\n"
     ]
    }
   ],
   "source": [
    "# First work on understanding how to access the matrix elements: \n",
    "\n",
    "print(a[0][9][0]) # Bottom left corner where we always start off with a 1\n",
    "print(a[0][0][0]) # Top right corner"
   ]
  },
  {
   "cell_type": "code",
   "execution_count": 71,
   "metadata": {},
   "outputs": [],
   "source": [
    "a = np.array([a])"
   ]
  },
  {
   "cell_type": "code",
   "execution_count": 73,
   "metadata": {},
   "outputs": [],
   "source": [
    "flat_list = []\n",
    "for sublist in a:\n",
    "    for item in sublist:\n",
    "        flat_list.append(item)"
   ]
  },
  {
   "cell_type": "code",
   "execution_count": 75,
   "metadata": {},
   "outputs": [],
   "source": [
    "b = []\n",
    "for i in flat_list:\n",
    "    b.append(i)"
   ]
  },
  {
   "cell_type": "code",
   "execution_count": 79,
   "metadata": {},
   "outputs": [],
   "source": [
    "# So now we have a numpy array in b"
   ]
  },
  {
   "cell_type": "code",
   "execution_count": 82,
   "metadata": {},
   "outputs": [
    {
     "data": {
      "text/plain": [
       "0"
      ]
     },
     "execution_count": 82,
     "metadata": {},
     "output_type": "execute_result"
    }
   ],
   "source": [
    "b[0][0][0]"
   ]
  },
  {
   "cell_type": "markdown",
   "metadata": {},
   "source": [
    "-------------------------------------------------------------------------------------------------------------------"
   ]
  },
  {
   "cell_type": "markdown",
   "metadata": {},
   "source": [
    "#### Task 2: 6f8cd79b.json"
   ]
  },
  {
   "cell_type": "code",
   "execution_count": 84,
   "metadata": {},
   "outputs": [
    {
     "data": {
      "text/plain": [
       "{'train': [{'input': [[0, 0, 0], [0, 0, 0], [0, 0, 0]],\n",
       "   'output': [[8, 8, 8], [8, 0, 8], [8, 8, 8]]},\n",
       "  {'input': [[0, 0, 0], [0, 0, 0], [0, 0, 0], [0, 0, 0]],\n",
       "   'output': [[8, 8, 8], [8, 0, 8], [8, 0, 8], [8, 8, 8]]},\n",
       "  {'input': [[0, 0, 0, 0],\n",
       "    [0, 0, 0, 0],\n",
       "    [0, 0, 0, 0],\n",
       "    [0, 0, 0, 0],\n",
       "    [0, 0, 0, 0]],\n",
       "   'output': [[8, 8, 8, 8],\n",
       "    [8, 0, 0, 8],\n",
       "    [8, 0, 0, 8],\n",
       "    [8, 0, 0, 8],\n",
       "    [8, 8, 8, 8]]},\n",
       "  {'input': [[0, 0, 0, 0, 0, 0],\n",
       "    [0, 0, 0, 0, 0, 0],\n",
       "    [0, 0, 0, 0, 0, 0],\n",
       "    [0, 0, 0, 0, 0, 0],\n",
       "    [0, 0, 0, 0, 0, 0]],\n",
       "   'output': [[8, 8, 8, 8, 8, 8],\n",
       "    [8, 0, 0, 0, 0, 8],\n",
       "    [8, 0, 0, 0, 0, 8],\n",
       "    [8, 0, 0, 0, 0, 8],\n",
       "    [8, 8, 8, 8, 8, 8]]}],\n",
       " 'test': [{'input': [[0, 0, 0, 0, 0, 0],\n",
       "    [0, 0, 0, 0, 0, 0],\n",
       "    [0, 0, 0, 0, 0, 0],\n",
       "    [0, 0, 0, 0, 0, 0],\n",
       "    [0, 0, 0, 0, 0, 0],\n",
       "    [0, 0, 0, 0, 0, 0],\n",
       "    [0, 0, 0, 0, 0, 0]],\n",
       "   'output': [[8, 8, 8, 8, 8, 8],\n",
       "    [8, 0, 0, 0, 0, 8],\n",
       "    [8, 0, 0, 0, 0, 8],\n",
       "    [8, 0, 0, 0, 0, 8],\n",
       "    [8, 0, 0, 0, 0, 8],\n",
       "    [8, 0, 0, 0, 0, 8],\n",
       "    [8, 8, 8, 8, 8, 8]]}]}"
      ]
     },
     "execution_count": 84,
     "metadata": {},
     "output_type": "execute_result"
    }
   ],
   "source": [
    "import json\n",
    "with open(\"C://Users/oisin/Documents/College/PTAI/Assignment 3/ARC/data/training/6f8cd79b.json\") as f:\n",
    "    data1 = json.load(f)\n",
    "\n",
    "(data1)"
   ]
  },
  {
   "cell_type": "code",
   "execution_count": null,
   "metadata": {},
   "outputs": [],
   "source": []
  }
 ],
 "metadata": {
  "kernelspec": {
   "display_name": "Python 3",
   "language": "python",
   "name": "python3"
  },
  "language_info": {
   "codemirror_mode": {
    "name": "ipython",
    "version": 3
   },
   "file_extension": ".py",
   "mimetype": "text/x-python",
   "name": "python",
   "nbconvert_exporter": "python",
   "pygments_lexer": "ipython3",
   "version": "3.8.5"
  }
 },
 "nbformat": 4,
 "nbformat_minor": 4
}
