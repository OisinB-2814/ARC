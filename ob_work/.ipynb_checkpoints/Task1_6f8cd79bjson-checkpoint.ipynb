{
 "cells": [
  {
   "cell_type": "markdown",
   "metadata": {},
   "source": [
    "#### Task 1: 6f8cd79b.json"
   ]
  },
  {
   "cell_type": "markdown",
   "metadata": {},
   "source": [
    "1. Pull the json file in\n",
    "2. Pull out the matrix value for the training and testing data (inputs only)\n",
    "3. Convert to a numpy array\n",
    "4. Run through the function to change to desired output"
   ]
  },
  {
   "cell_type": "code",
   "execution_count": 1,
   "metadata": {},
   "outputs": [],
   "source": [
    "import numpy as np"
   ]
  },
  {
   "cell_type": "code",
   "execution_count": 2,
   "metadata": {},
   "outputs": [
    {
     "data": {
      "text/plain": [
       "{'train': [{'input': [[0, 0, 0], [0, 0, 0], [0, 0, 0]],\n",
       "   'output': [[8, 8, 8], [8, 0, 8], [8, 8, 8]]},\n",
       "  {'input': [[0, 0, 0], [0, 0, 0], [0, 0, 0], [0, 0, 0]],\n",
       "   'output': [[8, 8, 8], [8, 0, 8], [8, 0, 8], [8, 8, 8]]},\n",
       "  {'input': [[0, 0, 0, 0],\n",
       "    [0, 0, 0, 0],\n",
       "    [0, 0, 0, 0],\n",
       "    [0, 0, 0, 0],\n",
       "    [0, 0, 0, 0]],\n",
       "   'output': [[8, 8, 8, 8],\n",
       "    [8, 0, 0, 8],\n",
       "    [8, 0, 0, 8],\n",
       "    [8, 0, 0, 8],\n",
       "    [8, 8, 8, 8]]},\n",
       "  {'input': [[0, 0, 0, 0, 0, 0],\n",
       "    [0, 0, 0, 0, 0, 0],\n",
       "    [0, 0, 0, 0, 0, 0],\n",
       "    [0, 0, 0, 0, 0, 0],\n",
       "    [0, 0, 0, 0, 0, 0]],\n",
       "   'output': [[8, 8, 8, 8, 8, 8],\n",
       "    [8, 0, 0, 0, 0, 8],\n",
       "    [8, 0, 0, 0, 0, 8],\n",
       "    [8, 0, 0, 0, 0, 8],\n",
       "    [8, 8, 8, 8, 8, 8]]}],\n",
       " 'test': [{'input': [[0, 0, 0, 0, 0, 0],\n",
       "    [0, 0, 0, 0, 0, 0],\n",
       "    [0, 0, 0, 0, 0, 0],\n",
       "    [0, 0, 0, 0, 0, 0],\n",
       "    [0, 0, 0, 0, 0, 0],\n",
       "    [0, 0, 0, 0, 0, 0],\n",
       "    [0, 0, 0, 0, 0, 0]],\n",
       "   'output': [[8, 8, 8, 8, 8, 8],\n",
       "    [8, 0, 0, 0, 0, 8],\n",
       "    [8, 0, 0, 0, 0, 8],\n",
       "    [8, 0, 0, 0, 0, 8],\n",
       "    [8, 0, 0, 0, 0, 8],\n",
       "    [8, 0, 0, 0, 0, 8],\n",
       "    [8, 8, 8, 8, 8, 8]]}]}"
      ]
     },
     "execution_count": 2,
     "metadata": {},
     "output_type": "execute_result"
    }
   ],
   "source": [
    "import json\n",
    "with open(\"C://Users/oisin/Documents/College/PTAI/Assignment 3/ARC/data/training/6f8cd79b.json\") as f:\n",
    "    data = json.load(f)\n",
    "\n",
    "(data)"
   ]
  },
  {
   "cell_type": "markdown",
   "metadata": {},
   "source": [
    "$8 = \\text{light blue}$ , $0 = black$"
   ]
  },
  {
   "cell_type": "markdown",
   "metadata": {},
   "source": [
    "The data can be split into training and testing "
   ]
  },
  {
   "cell_type": "code",
   "execution_count": 3,
   "metadata": {},
   "outputs": [],
   "source": [
    "train = data['train']\n",
    "train = [i['input'] for i in train]\n",
    "train = [np.array(i) for i in train]"
   ]
  },
  {
   "cell_type": "code",
   "execution_count": 4,
   "metadata": {},
   "outputs": [],
   "source": [
    "test = data['test']\n",
    "test = [i['input'] for i in test]\n",
    "test = np.array(test)"
   ]
  },
  {
   "cell_type": "code",
   "execution_count": 5,
   "metadata": {},
   "outputs": [],
   "source": [
    "def solve_6f8cd79b(x: np.array):\n",
    "    \n",
    "    '''\n",
    "    This function takes in a numpy array filled with a single value (or colour) of size n x m \n",
    "    The function makes a 'wall' around the array and returns a new array surrounded by 8 (sky blue) on the top, bottom, right and left walls of the matrix\n",
    "    Parameters:\n",
    "        x (np.array): A numpy array\n",
    "    \n",
    "    >>> solve_6f8cd79b(train[0])\n",
    "    array([[8, 8, 8],\n",
    "           [8, 0, 8],\n",
    "           [8, 8, 8]])\n",
    "       \n",
    "    >>> solve_6f8cd79b(np.zeros([10,10]))\n",
    "    array([[8., 8., 8., 8., 8., 8., 8., 8., 8., 8.],\n",
    "           [8., 0., 0., 0., 0., 0., 0., 0., 0., 8.],\n",
    "           [8., 0., 0., 0., 0., 0., 0., 0., 0., 8.],\n",
    "           [8., 0., 0., 0., 0., 0., 0., 0., 0., 8.],\n",
    "           [8., 0., 0., 0., 0., 0., 0., 0., 0., 8.],\n",
    "           [8., 0., 0., 0., 0., 0., 0., 0., 0., 8.],\n",
    "           [8., 0., 0., 0., 0., 0., 0., 0., 0., 8.],\n",
    "           [8., 0., 0., 0., 0., 0., 0., 0., 0., 8.],\n",
    "           [8., 0., 0., 0., 0., 0., 0., 0., 0., 8.],\n",
    "           [8., 8., 8., 8., 8., 8., 8., 8., 8., 8.]])\n",
    "    \n",
    "    The function works on all of the three training inputs as well as the test input\n",
    "    '''\n",
    "    # Top row\n",
    "    x[:, 0] = 8\n",
    "    # Left most column\n",
    "    x[0, :] = 8 \n",
    "    # Bottom row\n",
    "    x[-1, :] = 8 \n",
    "    # Right most column\n",
    "    x[:, -1] = 8\n",
    "    # Pull back new matrix\n",
    "    return x"
   ]
  },
  {
   "cell_type": "code",
   "execution_count": 6,
   "metadata": {},
   "outputs": [
    {
     "data": {
      "text/plain": [
       "[array([[8, 8, 8],\n",
       "        [8, 0, 8],\n",
       "        [8, 8, 8]]),\n",
       " array([[8, 8, 8],\n",
       "        [8, 0, 8],\n",
       "        [8, 0, 8],\n",
       "        [8, 8, 8]]),\n",
       " array([[8, 8, 8, 8],\n",
       "        [8, 0, 0, 8],\n",
       "        [8, 0, 0, 8],\n",
       "        [8, 0, 0, 8],\n",
       "        [8, 8, 8, 8]])]"
      ]
     },
     "execution_count": 6,
     "metadata": {},
     "output_type": "execute_result"
    }
   ],
   "source": [
    "# Testing function on training data\n",
    "[solve_6f8cd79b(train[i]) for i in range(3)]"
   ]
  },
  {
   "cell_type": "code",
   "execution_count": 7,
   "metadata": {},
   "outputs": [
    {
     "data": {
      "text/plain": [
       "array([[8, 8, 8, 8, 8, 8],\n",
       "       [8, 0, 0, 0, 0, 8],\n",
       "       [8, 0, 0, 0, 0, 8],\n",
       "       [8, 0, 0, 0, 0, 8],\n",
       "       [8, 0, 0, 0, 0, 8],\n",
       "       [8, 0, 0, 0, 0, 8],\n",
       "       [8, 8, 8, 8, 8, 8]])"
      ]
     },
     "execution_count": 7,
     "metadata": {},
     "output_type": "execute_result"
    }
   ],
   "source": [
    "solve_6f8cd79b(test[0])"
   ]
  },
  {
   "cell_type": "markdown",
   "metadata": {},
   "source": [
    "Important to note that this function will also work on any numpy array passed into it of whatever n x m size filled with 0 values - It will also work on multi integer arrays but not the way the function was intended for when built. See below for example."
   ]
  },
  {
   "cell_type": "code",
   "execution_count": 8,
   "metadata": {},
   "outputs": [
    {
     "data": {
      "text/plain": [
       "array([[8, 8, 8, 8, 8],\n",
       "       [8, 2, 3, 4, 8],\n",
       "       [8, 2, 3, 4, 8],\n",
       "       [8, 2, 3, 4, 8],\n",
       "       [8, 8, 8, 8, 8]])"
      ]
     },
     "execution_count": 8,
     "metadata": {},
     "output_type": "execute_result"
    }
   ],
   "source": [
    "solve_6f8cd79b(np.array([[1,2,3,4,5],[1,2,3,4,5],[1,2,3,4,5],[1,2,3,4,5],[1,2,3,4,5]]))"
   ]
  }
 ],
 "metadata": {
  "kernelspec": {
   "display_name": "Python 3",
   "language": "python",
   "name": "python3"
  },
  "language_info": {
   "codemirror_mode": {
    "name": "ipython",
    "version": 3
   },
   "file_extension": ".py",
   "mimetype": "text/x-python",
   "name": "python",
   "nbconvert_exporter": "python",
   "pygments_lexer": "ipython3",
   "version": "3.8.5"
  }
 },
 "nbformat": 4,
 "nbformat_minor": 4
}
