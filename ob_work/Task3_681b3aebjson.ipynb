{
 "cells": [
  {
   "cell_type": "markdown",
   "metadata": {},
   "source": [
    "#### Task 3: 681b3aeb.json"
   ]
  },
  {
   "cell_type": "code",
   "execution_count": 1,
   "metadata": {},
   "outputs": [
    {
     "data": {
      "text/plain": [
       "{'train': [{'input': [[0, 0, 0, 0, 0, 0, 0, 0, 0, 0],\n",
       "    [0, 0, 0, 0, 0, 0, 0, 0, 0, 0],\n",
       "    [0, 3, 3, 0, 0, 0, 0, 0, 0, 0],\n",
       "    [0, 3, 0, 0, 0, 0, 0, 0, 0, 0],\n",
       "    [0, 3, 0, 0, 0, 0, 0, 0, 0, 0],\n",
       "    [0, 0, 0, 0, 0, 0, 0, 0, 0, 0],\n",
       "    [0, 0, 0, 0, 0, 0, 0, 0, 0, 0],\n",
       "    [0, 0, 0, 0, 0, 0, 0, 0, 0, 7],\n",
       "    [0, 0, 0, 0, 0, 0, 0, 0, 7, 7],\n",
       "    [0, 0, 0, 0, 0, 0, 0, 0, 7, 7]],\n",
       "   'output': [[3, 3, 7], [3, 7, 7], [3, 7, 7]]},\n",
       "  {'input': [[0, 0, 0, 0, 0, 0, 0, 0, 4, 0],\n",
       "    [0, 0, 0, 0, 0, 0, 0, 0, 4, 4],\n",
       "    [0, 0, 0, 6, 6, 6, 0, 0, 0, 0],\n",
       "    [0, 0, 0, 0, 6, 6, 0, 0, 0, 0],\n",
       "    [0, 0, 0, 0, 0, 6, 0, 0, 0, 0],\n",
       "    [0, 0, 0, 0, 0, 0, 0, 0, 0, 0],\n",
       "    [0, 0, 0, 0, 0, 0, 0, 0, 0, 0],\n",
       "    [0, 0, 0, 0, 0, 0, 0, 0, 0, 0],\n",
       "    [0, 0, 0, 0, 0, 0, 0, 0, 0, 0],\n",
       "    [0, 0, 0, 0, 0, 0, 0, 0, 0, 0]],\n",
       "   'output': [[6, 6, 6], [4, 6, 6], [4, 4, 6]]},\n",
       "  {'input': [[0, 0, 0, 0, 0, 0, 0, 0, 0, 0],\n",
       "    [0, 0, 0, 0, 0, 0, 0, 0, 0, 0],\n",
       "    [0, 0, 0, 0, 0, 0, 0, 0, 0, 0],\n",
       "    [0, 0, 0, 0, 0, 0, 0, 0, 0, 0],\n",
       "    [0, 0, 0, 0, 3, 0, 0, 0, 0, 0],\n",
       "    [0, 0, 0, 3, 3, 3, 0, 0, 0, 0],\n",
       "    [0, 0, 0, 0, 0, 0, 0, 0, 0, 0],\n",
       "    [0, 0, 0, 0, 0, 0, 0, 0, 0, 0],\n",
       "    [0, 1, 1, 1, 0, 0, 0, 0, 0, 0],\n",
       "    [0, 1, 0, 1, 0, 0, 0, 0, 0, 0]],\n",
       "   'output': [[1, 1, 1], [1, 3, 1], [3, 3, 3]]}],\n",
       " 'test': [{'input': [[0, 0, 0, 0, 0, 0, 0, 0, 0, 0],\n",
       "    [0, 0, 0, 0, 0, 0, 0, 0, 0, 0],\n",
       "    [0, 0, 0, 0, 2, 0, 0, 0, 0, 0],\n",
       "    [0, 0, 0, 2, 2, 0, 0, 0, 0, 0],\n",
       "    [0, 0, 0, 0, 0, 0, 0, 0, 0, 0],\n",
       "    [0, 0, 0, 0, 0, 0, 0, 0, 0, 0],\n",
       "    [0, 0, 0, 0, 0, 0, 0, 8, 8, 0],\n",
       "    [0, 0, 0, 0, 0, 0, 0, 8, 0, 0],\n",
       "    [0, 0, 0, 0, 0, 0, 0, 8, 8, 8],\n",
       "    [0, 0, 0, 0, 0, 0, 0, 0, 0, 0]],\n",
       "   'output': [[8, 8, 2], [8, 2, 2], [8, 8, 8]]}]}"
      ]
     },
     "execution_count": 1,
     "metadata": {},
     "output_type": "execute_result"
    }
   ],
   "source": [
    "import json\n",
    "import numpy as np\n",
    "with open(\"C://Users/oisin/Documents/College/PTAI/Assignment 3/ARC/data/training/681b3aeb.json\") as f:\n",
    "    data = json.load(f)\n",
    "\n",
    "(data)"
   ]
  },
  {
   "cell_type": "code",
   "execution_count": 2,
   "metadata": {},
   "outputs": [],
   "source": [
    "test = data['test']\n",
    "test = [i['input'] for i in test]\n",
    "test = np.array(test)"
   ]
  },
  {
   "cell_type": "code",
   "execution_count": 5,
   "metadata": {},
   "outputs": [
    {
     "data": {
      "text/plain": [
       "array([[[0, 0, 0, 0, 0, 0, 0, 0, 0, 0],\n",
       "        [0, 0, 0, 0, 0, 0, 0, 0, 0, 0],\n",
       "        [0, 0, 0, 0, 2, 0, 0, 0, 0, 0],\n",
       "        [0, 0, 0, 2, 2, 0, 0, 0, 0, 0],\n",
       "        [0, 0, 0, 0, 0, 0, 0, 0, 0, 0],\n",
       "        [0, 0, 0, 0, 0, 0, 0, 0, 0, 0],\n",
       "        [0, 0, 0, 0, 0, 0, 0, 8, 8, 0],\n",
       "        [0, 0, 0, 0, 0, 0, 0, 8, 0, 0],\n",
       "        [0, 0, 0, 0, 0, 0, 0, 8, 8, 8],\n",
       "        [0, 0, 0, 0, 0, 0, 0, 0, 0, 0]]])"
      ]
     },
     "execution_count": 5,
     "metadata": {},
     "output_type": "execute_result"
    }
   ],
   "source": [
    "test"
   ]
  },
  {
   "cell_type": "markdown",
   "metadata": {},
   "source": [
    "We always want to be able to take anything non zero, merge it into a perfect 3x3 matrix "
   ]
  },
  {
   "cell_type": "code",
   "execution_count": null,
   "metadata": {},
   "outputs": [],
   "source": []
  }
 ],
 "metadata": {
  "kernelspec": {
   "display_name": "Python 3",
   "language": "python",
   "name": "python3"
  },
  "language_info": {
   "codemirror_mode": {
    "name": "ipython",
    "version": 3
   },
   "file_extension": ".py",
   "mimetype": "text/x-python",
   "name": "python",
   "nbconvert_exporter": "python",
   "pygments_lexer": "ipython3",
   "version": "3.8.5"
  }
 },
 "nbformat": 4,
 "nbformat_minor": 4
}
